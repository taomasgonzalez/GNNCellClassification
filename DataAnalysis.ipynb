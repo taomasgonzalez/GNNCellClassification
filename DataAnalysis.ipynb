{
 "cells": [
  {
   "cell_type": "markdown",
   "id": "97f4fb23",
   "metadata": {},
   "source": [
    "# Data Analysis\n",
    "The goal of this Notebook is to explore and analyse the data that is going to be used in this project.\n",
    "\n",
    "## Origin of the Data\n",
    "\n",
    "The data used for this project is spatially resolved and single nucleus transcriptomics data from the dorsolateral prefrontal cortex (DLPFC) from postmortem human brain samples obtained from the [spatialDLPFC](https://github.com/LieberInstitute/spatialDLPFC) project from the [Lieber Institute for Brain Development](https://www.libd.org/)\n",
    "\n",
    "The data has been processed and can be obtained in a format that is easy to digest in Python, as it's presented in an [AnnData Object](https://anndata.readthedocs.io/en/stable/) when downloading it from [FigShare](https://figshare.com/articles/dataset/Visium_DLPFC_preprocessed/22004273).\n",
    "\n",
    "The latter is the method used throughout this project."
   ]
  },
  {
   "cell_type": "markdown",
   "id": "ff4b7732",
   "metadata": {},
   "source": [
    "## Downloading the data"
   ]
  },
  {
   "cell_type": "code",
   "execution_count": 1,
   "id": "8accb0cf",
   "metadata": {},
   "outputs": [
    {
     "name": "stdout",
     "output_type": "stream",
     "text": [
      "~/projects/GNNCellClassification/dataset ~/projects/GNNCellClassification\n",
      "Don't download data: Both data and images exists\n",
      "~/projects/GNNCellClassification\n"
     ]
    }
   ],
   "source": [
    "%%sh\n",
    "./dataset/getdata.sh"
   ]
  },
  {
   "cell_type": "markdown",
   "id": "bacbcc61",
   "metadata": {},
   "source": [
    "## Obtaining the spatial and histological data"
   ]
  },
  {
   "cell_type": "markdown",
   "id": "cd3ced73",
   "metadata": {},
   "source": [
    "Let's first add src to our path:"
   ]
  },
  {
   "cell_type": "code",
   "execution_count": 2,
   "id": "92061011",
   "metadata": {},
   "outputs": [],
   "source": [
    "import sys, os\n",
    "sys.path.append(os.path.abspath(\"src\"))"
   ]
  },
  {
   "cell_type": "code",
   "execution_count": 3,
   "id": "e39f750a",
   "metadata": {},
   "outputs": [
    {
     "name": "stdout",
     "output_type": "stream",
     "text": [
      "Loading AnnData for sample 151676 …\n",
      "Loading AnnData for sample 151669 …\n",
      "Loading AnnData for sample 151507 …\n",
      "Loading AnnData for sample 151508 …\n",
      "Loading AnnData for sample 151672 …\n",
      "Loading AnnData for sample 151670 …\n",
      "Loading AnnData for sample 151673 …\n",
      "Loading AnnData for sample 151675 …\n",
      "Loading AnnData for sample 151510 …\n",
      "Loading AnnData for sample 151671 …\n",
      "Loading AnnData for sample 151674 …\n",
      "Loading AnnData for sample 151509 …\n",
      "Loading Image for sample 151676 …\n",
      "Loading Image for sample 151669 …\n",
      "Loading Image for sample 151507 …\n",
      "Loading Image for sample 151508 …\n",
      "Loading Image for sample 151672 …\n",
      "Loading Image for sample 151670 …\n",
      "Loading Image for sample 151673 …\n",
      "Loading Image for sample 151675 …\n",
      "Loading Image for sample 151510 …\n",
      "Loading Image for sample 151671 …\n",
      "Loading Image for sample 151674 …\n",
      "Loading Image for sample 151509 …\n"
     ]
    }
   ],
   "source": [
    "%load_ext autoreload\n",
    "%autoreload 2\n",
    "\n",
    "import importlib\n",
    "import preprocess\n",
    "\n",
    "data_dir, img_dir, graph_dir = \"dataset/data\", \"dataset/images\", \"out/graphs\"\n",
    "ann_data, histology_imgs = preprocess.main(data_dir, img_dir, graph_dir)"
   ]
  },
  {
   "cell_type": "code",
   "execution_count": 4,
   "id": "b38e4076",
   "metadata": {},
   "outputs": [
    {
     "name": "stdout",
     "output_type": "stream",
     "text": [
      "obs:                      in_tissue  array_row  array_col  sce.sample_name  \\\n",
      "AAACAAGTATCTCCCA-1          1         50        102           151676   \n",
      "AAACAATCTACTAGCA-1          1          3         43           151676   \n",
      "AAACACCAATAACTGC-1          1         59         19           151676   \n",
      "AAACAGAGCGACTCCT-1          1         14         94           151676   \n",
      "AAACAGGGTCTATATT-1          1         47         13           151676   \n",
      "...                       ...        ...        ...              ...   \n",
      "TTGTTGTGTGTCAAGA-1          1         31         77           151676   \n",
      "TTGTTTCACATCCAGG-1          1         58         42           151676   \n",
      "TTGTTTCATTAGTCTA-1          1         60         30           151676   \n",
      "TTGTTTCCATACAACT-1          1         45         27           151676   \n",
      "TTGTTTGTGTAAATTC-1          1          7         51           151676   \n",
      "\n",
      "                   sce.layer_guess  \n",
      "AAACAAGTATCTCCCA-1          Layer3  \n",
      "AAACAATCTACTAGCA-1          Layer1  \n",
      "AAACACCAATAACTGC-1              WM  \n",
      "AAACAGAGCGACTCCT-1          Layer3  \n",
      "AAACAGGGTCTATATT-1          Layer6  \n",
      "...                            ...  \n",
      "TTGTTGTGTGTCAAGA-1          Layer6  \n",
      "TTGTTTCACATCCAGG-1              WM  \n",
      "TTGTTTCATTAGTCTA-1              WM  \n",
      "TTGTTTCCATACAACT-1          Layer6  \n",
      "TTGTTTGTGTAAATTC-1          Layer1  \n",
      "\n",
      "[3460 rows x 5 columns]\n",
      "var:                      gene_ids    feature_types  genome\n",
      "MIR1302-2HG  ENSG00000243485  Gene Expression  GRCh38\n",
      "FAM138A      ENSG00000237613  Gene Expression  GRCh38\n",
      "OR4F5        ENSG00000186092  Gene Expression  GRCh38\n",
      "AL627309.1   ENSG00000238009  Gene Expression  GRCh38\n",
      "AL627309.3   ENSG00000239945  Gene Expression  GRCh38\n",
      "...                      ...              ...     ...\n",
      "AC233755.2   ENSG00000277856  Gene Expression  GRCh38\n",
      "AC233755.1   ENSG00000275063  Gene Expression  GRCh38\n",
      "AC240274.1   ENSG00000271254  Gene Expression  GRCh38\n",
      "AC213203.1   ENSG00000277475  Gene Expression  GRCh38\n",
      "FAM231C      ENSG00000268674  Gene Expression  GRCh38\n",
      "\n",
      "[33538 rows x 3 columns]\n",
      "uns:  {'spatial': {'151676': {'images': {'hires': array([[[0.6784314 , 0.69411767, 0.6901961 ],\n",
      "        [0.6784314 , 0.69803923, 0.6901961 ],\n",
      "        [0.6784314 , 0.69411767, 0.6862745 ],\n",
      "        ...,\n",
      "        [0.6666667 , 0.6862745 , 0.6862745 ],\n",
      "        [0.67058825, 0.6901961 , 0.6901961 ],\n",
      "        [0.67058825, 0.6901961 , 0.6901961 ]],\n",
      "\n",
      "       [[0.68235296, 0.69803923, 0.6901961 ],\n",
      "        [0.6784314 , 0.69803923, 0.6901961 ],\n",
      "        [0.68235296, 0.69411767, 0.6862745 ],\n",
      "        ...,\n",
      "        [0.6666667 , 0.6901961 , 0.68235296],\n",
      "        [0.67058825, 0.69411767, 0.6862745 ],\n",
      "        [0.67058825, 0.69411767, 0.68235296]],\n",
      "\n",
      "       [[0.68235296, 0.69411767, 0.6862745 ],\n",
      "        [0.68235296, 0.69803923, 0.6901961 ],\n",
      "        [0.6784314 , 0.69411767, 0.6901961 ],\n",
      "        ...,\n",
      "        [0.6745098 , 0.6901961 , 0.6901961 ],\n",
      "        [0.67058825, 0.6901961 , 0.6862745 ],\n",
      "        [0.6745098 , 0.6901961 , 0.6862745 ]],\n",
      "\n",
      "       ...,\n",
      "\n",
      "       [[0.6745098 , 0.69411767, 0.6901961 ],\n",
      "        [0.6745098 , 0.69411767, 0.6901961 ],\n",
      "        [0.6784314 , 0.69411767, 0.6901961 ],\n",
      "        ...,\n",
      "        [0.6745098 , 0.69803923, 0.6901961 ],\n",
      "        [0.6784314 , 0.69803923, 0.69411767],\n",
      "        [0.6745098 , 0.69411767, 0.6862745 ]],\n",
      "\n",
      "       [[0.6745098 , 0.69411767, 0.6862745 ],\n",
      "        [0.6745098 , 0.69411767, 0.68235296],\n",
      "        [0.6784314 , 0.69803923, 0.6901961 ],\n",
      "        ...,\n",
      "        [0.6784314 , 0.69803923, 0.6901961 ],\n",
      "        [0.6784314 , 0.69411767, 0.6862745 ],\n",
      "        [0.6784314 , 0.69411767, 0.6901961 ]],\n",
      "\n",
      "       [[0.6745098 , 0.69803923, 0.6862745 ],\n",
      "        [0.6745098 , 0.69411767, 0.6862745 ],\n",
      "        [0.67058825, 0.69411767, 0.6901961 ],\n",
      "        ...,\n",
      "        [0.6784314 , 0.69803923, 0.69411767],\n",
      "        [0.6784314 , 0.69803923, 0.6901961 ],\n",
      "        [0.68235296, 0.69411767, 0.6901961 ]]],\n",
      "      shape=(2000, 2000, 3), dtype=float32), 'lowres': array([[[0.6784314 , 0.69411767, 0.6901961 ],\n",
      "        [0.6784314 , 0.69411767, 0.6862745 ],\n",
      "        [0.6784314 , 0.69803923, 0.6901961 ],\n",
      "        ...,\n",
      "        [0.6745098 , 0.6901961 , 0.6862745 ],\n",
      "        [0.67058825, 0.6901961 , 0.6862745 ],\n",
      "        [0.67058825, 0.6901961 , 0.6862745 ]],\n",
      "\n",
      "       [[0.6784314 , 0.69411767, 0.6901961 ],\n",
      "        [0.6784314 , 0.69803923, 0.6862745 ],\n",
      "        [0.6784314 , 0.69803923, 0.6901961 ],\n",
      "        ...,\n",
      "        [0.67058825, 0.6901961 , 0.68235296],\n",
      "        [0.67058825, 0.69411767, 0.6862745 ],\n",
      "        [0.67058825, 0.6901961 , 0.6862745 ]],\n",
      "\n",
      "       [[0.6666667 , 0.6901961 , 0.6784314 ],\n",
      "        [0.6784314 , 0.69803923, 0.6862745 ],\n",
      "        [0.6784314 , 0.69803923, 0.6862745 ],\n",
      "        ...,\n",
      "        [0.67058825, 0.6901961 , 0.68235296],\n",
      "        [0.6745098 , 0.69411767, 0.6862745 ],\n",
      "        [0.6745098 , 0.6901961 , 0.6862745 ]],\n",
      "\n",
      "       ...,\n",
      "\n",
      "       [[0.6745098 , 0.69411767, 0.6862745 ],\n",
      "        [0.6745098 , 0.69411767, 0.6862745 ],\n",
      "        [0.6666667 , 0.6862745 , 0.68235296],\n",
      "        ...,\n",
      "        [0.6784314 , 0.69411767, 0.6862745 ],\n",
      "        [0.6784314 , 0.69803923, 0.6901961 ],\n",
      "        [0.68235296, 0.69803923, 0.6862745 ]],\n",
      "\n",
      "       [[0.6745098 , 0.69411767, 0.6901961 ],\n",
      "        [0.6745098 , 0.69411767, 0.6901961 ],\n",
      "        [0.6745098 , 0.6901961 , 0.6862745 ],\n",
      "        ...,\n",
      "        [0.6784314 , 0.69803923, 0.6862745 ],\n",
      "        [0.68235296, 0.69803923, 0.6901961 ],\n",
      "        [0.6784314 , 0.69803923, 0.6901961 ]],\n",
      "\n",
      "       [[0.6745098 , 0.69411767, 0.6862745 ],\n",
      "        [0.6784314 , 0.69411767, 0.6901961 ],\n",
      "        [0.6784314 , 0.69411767, 0.6901961 ],\n",
      "        ...,\n",
      "        [0.68235296, 0.69803923, 0.6862745 ],\n",
      "        [0.68235296, 0.69803923, 0.6901961 ],\n",
      "        [0.6784314 , 0.69411767, 0.6901961 ]]],\n",
      "      shape=(600, 600, 3), dtype=float32)}, 'metadata': {'chemistry_description': 'custom', 'software_version': '4509.5.5'}, 'scalefactors': {'fiducial_diameter_fullres': np.float64(144.575350960513), 'spot_diameter_fullres': np.float64(96.38356730700866), 'tissue_hires_scalef': np.float64(0.150015), 'tissue_lowres_scalef': np.float64(0.045004502)}}}, 'spatial_neighbors': {'connectivities_key': 'spatial_connectivities', 'distances_key': 'spatial_distances', 'params': {'coord_type': 'grid', 'n_neighbors': np.int64(6)}}, 'transforms': array([\"KNN(['n_neighbors=6'])\"], dtype=object)}\n",
      "obsm:  [[9650 2594]\n",
      " [5630 8254]\n",
      " [3928 1558]\n",
      " ...\n",
      " [4684 1433]\n",
      " [4491 3231]\n",
      " [6177 7771]]\n",
      "obsp:  PairwiseArrays with keys: spatial_connectivities, spatial_distances\n",
      "X:  <Compressed Sparse Row sparse matrix of dtype 'float32'\n",
      "\twith 6700560 stored elements and shape (3460, 33538)>\n",
      "  Coords\tValues\n",
      "  (0, 33527)\t1.0\n",
      "  (0, 33508)\t72.0\n",
      "  (0, 33506)\t23.0\n",
      "  (0, 33505)\t129.0\n",
      "  (0, 33504)\t11.0\n",
      "  (0, 33503)\t67.0\n",
      "  (0, 33502)\t178.0\n",
      "  (0, 33501)\t139.0\n",
      "  (0, 33500)\t7.0\n",
      "  (0, 33499)\t196.0\n",
      "  (0, 33498)\t179.0\n",
      "  (0, 33497)\t104.0\n",
      "  (0, 33496)\t136.0\n",
      "  (0, 33494)\t1.0\n",
      "  (0, 33445)\t1.0\n",
      "  (0, 33360)\t1.0\n",
      "  (0, 33338)\t1.0\n",
      "  (0, 33297)\t1.0\n",
      "  (0, 33279)\t2.0\n",
      "  (0, 33257)\t2.0\n",
      "  (0, 33254)\t2.0\n",
      "  (0, 33253)\t1.0\n",
      "  (0, 33233)\t1.0\n",
      "  (0, 33215)\t1.0\n",
      "  (0, 33207)\t2.0\n",
      "  :\t:\n",
      "  (3459, 584)\t1.0\n",
      "  (3459, 580)\t1.0\n",
      "  (3459, 577)\t1.0\n",
      "  (3459, 567)\t1.0\n",
      "  (3459, 559)\t1.0\n",
      "  (3459, 546)\t4.0\n",
      "  (3459, 538)\t2.0\n",
      "  (3459, 472)\t1.0\n",
      "  (3459, 458)\t1.0\n",
      "  (3459, 443)\t1.0\n",
      "  (3459, 361)\t1.0\n",
      "  (3459, 256)\t3.0\n",
      "  (3459, 244)\t2.0\n",
      "  (3459, 219)\t3.0\n",
      "  (3459, 214)\t1.0\n",
      "  (3459, 201)\t1.0\n",
      "  (3459, 190)\t1.0\n",
      "  (3459, 161)\t1.0\n",
      "  (3459, 152)\t2.0\n",
      "  (3459, 128)\t1.0\n",
      "  (3459, 74)\t1.0\n",
      "  (3459, 55)\t1.0\n",
      "  (3459, 53)\t1.0\n",
      "  (3459, 46)\t1.0\n",
      "  (3459, 27)\t1.0\n"
     ]
    }
   ],
   "source": [
    "    print(\"obs: \", ann_data['151676'].obs)\n",
    "    print(\"var: \", ann_data['151676'].var)\n",
    "    print(\"uns: \", ann_data['151676'].uns)\n",
    "    print(\"obsm: \", ann_data['151676'].obsm['spatial'])\n",
    "    print(\"obsp: \", ann_data['151676'].obsp)\n",
    "    print(\"X: \", ann_data['151676'].X)"
   ]
  },
  {
   "cell_type": "markdown",
   "id": "b2721faf",
   "metadata": {},
   "source": [
    "Each patient has a corresponding AnnData Object:"
   ]
  },
  {
   "cell_type": "code",
   "execution_count": 5,
   "id": "e67e0498",
   "metadata": {},
   "outputs": [
    {
     "name": "stdout",
     "output_type": "stream",
     "text": [
      "dict_keys(['151676', '151669', '151507', '151508', '151672', '151670', '151673', '151675', '151510', '151671', '151674', '151509'])\n"
     ]
    }
   ],
   "source": [
    "print(ann_data.keys())"
   ]
  },
  {
   "cell_type": "markdown",
   "id": "596a5b9b",
   "metadata": {},
   "source": [
    "## Exploring the AnnData object\n",
    "\n",
    "Let's explore what a patient's spatial information is composed of:"
   ]
  },
  {
   "cell_type": "code",
   "execution_count": 6,
   "id": "49912217",
   "metadata": {},
   "outputs": [
    {
     "name": "stdout",
     "output_type": "stream",
     "text": [
      "AnnData object with n_obs × n_vars = 3460 × 33538\n",
      "    obs: 'in_tissue', 'array_row', 'array_col', 'sce.sample_name', 'sce.layer_guess'\n",
      "    var: 'gene_ids', 'feature_types', 'genome'\n",
      "    uns: 'spatial', 'spatial_neighbors', 'transforms'\n",
      "    obsm: 'spatial'\n",
      "    obsp: 'spatial_connectivities', 'spatial_distances'\n"
     ]
    }
   ],
   "source": [
    "print(ann_data['151676'])"
   ]
  },
  {
   "cell_type": "markdown",
   "id": "83488c69",
   "metadata": {},
   "source": [
    "AnnData is specifically designed for matrix-like data.\n",
    "\n",
    "Observations: Each of which can be represented as d-dimensional vectors, where each dimension corresponds to a variable or feature.\n",
    "Both the rows and columns of this nxd matrix are special in the sense that they are indexed.\n",
    "\n",
    "For instance, in scRNA-seq data, each row corresponds to a cell with a barcode, and each column corresponds to a gene with a gene id."
   ]
  },
  {
   "cell_type": "markdown",
   "id": "4107d70b",
   "metadata": {},
   "source": [
    "### Observations' description\n",
    "\n",
    "Each spot is identified with a barcode.\n",
    "Each spot corresponds to one captured location on the Visiyum slide for a single brain section.\n",
    "There are `3460` spots / barcodes.\n",
    "\n",
    "`array_row` and `array_col` are the (x,y) coordinates for each spot barcode.\n",
    "\n",
    "Let's display the observations. Each barcode is the index for our DataFrame:"
   ]
  },
  {
   "cell_type": "code",
   "execution_count": 7,
   "id": "6b57fca7",
   "metadata": {},
   "outputs": [
    {
     "data": {
      "text/html": [
       "<div>\n",
       "<style scoped>\n",
       "    .dataframe tbody tr th:only-of-type {\n",
       "        vertical-align: middle;\n",
       "    }\n",
       "\n",
       "    .dataframe tbody tr th {\n",
       "        vertical-align: top;\n",
       "    }\n",
       "\n",
       "    .dataframe thead th {\n",
       "        text-align: right;\n",
       "    }\n",
       "</style>\n",
       "<table border=\"1\" class=\"dataframe\">\n",
       "  <thead>\n",
       "    <tr style=\"text-align: right;\">\n",
       "      <th></th>\n",
       "      <th>in_tissue</th>\n",
       "      <th>array_row</th>\n",
       "      <th>array_col</th>\n",
       "      <th>sce.sample_name</th>\n",
       "      <th>sce.layer_guess</th>\n",
       "    </tr>\n",
       "  </thead>\n",
       "  <tbody>\n",
       "    <tr>\n",
       "      <th>AAACAAGTATCTCCCA-1</th>\n",
       "      <td>1</td>\n",
       "      <td>50</td>\n",
       "      <td>102</td>\n",
       "      <td>151676</td>\n",
       "      <td>Layer3</td>\n",
       "    </tr>\n",
       "    <tr>\n",
       "      <th>AAACAATCTACTAGCA-1</th>\n",
       "      <td>1</td>\n",
       "      <td>3</td>\n",
       "      <td>43</td>\n",
       "      <td>151676</td>\n",
       "      <td>Layer1</td>\n",
       "    </tr>\n",
       "    <tr>\n",
       "      <th>AAACACCAATAACTGC-1</th>\n",
       "      <td>1</td>\n",
       "      <td>59</td>\n",
       "      <td>19</td>\n",
       "      <td>151676</td>\n",
       "      <td>WM</td>\n",
       "    </tr>\n",
       "    <tr>\n",
       "      <th>AAACAGAGCGACTCCT-1</th>\n",
       "      <td>1</td>\n",
       "      <td>14</td>\n",
       "      <td>94</td>\n",
       "      <td>151676</td>\n",
       "      <td>Layer3</td>\n",
       "    </tr>\n",
       "    <tr>\n",
       "      <th>AAACAGGGTCTATATT-1</th>\n",
       "      <td>1</td>\n",
       "      <td>47</td>\n",
       "      <td>13</td>\n",
       "      <td>151676</td>\n",
       "      <td>Layer6</td>\n",
       "    </tr>\n",
       "    <tr>\n",
       "      <th>...</th>\n",
       "      <td>...</td>\n",
       "      <td>...</td>\n",
       "      <td>...</td>\n",
       "      <td>...</td>\n",
       "      <td>...</td>\n",
       "    </tr>\n",
       "    <tr>\n",
       "      <th>TTGTTGTGTGTCAAGA-1</th>\n",
       "      <td>1</td>\n",
       "      <td>31</td>\n",
       "      <td>77</td>\n",
       "      <td>151676</td>\n",
       "      <td>Layer6</td>\n",
       "    </tr>\n",
       "    <tr>\n",
       "      <th>TTGTTTCACATCCAGG-1</th>\n",
       "      <td>1</td>\n",
       "      <td>58</td>\n",
       "      <td>42</td>\n",
       "      <td>151676</td>\n",
       "      <td>WM</td>\n",
       "    </tr>\n",
       "    <tr>\n",
       "      <th>TTGTTTCATTAGTCTA-1</th>\n",
       "      <td>1</td>\n",
       "      <td>60</td>\n",
       "      <td>30</td>\n",
       "      <td>151676</td>\n",
       "      <td>WM</td>\n",
       "    </tr>\n",
       "    <tr>\n",
       "      <th>TTGTTTCCATACAACT-1</th>\n",
       "      <td>1</td>\n",
       "      <td>45</td>\n",
       "      <td>27</td>\n",
       "      <td>151676</td>\n",
       "      <td>Layer6</td>\n",
       "    </tr>\n",
       "    <tr>\n",
       "      <th>TTGTTTGTGTAAATTC-1</th>\n",
       "      <td>1</td>\n",
       "      <td>7</td>\n",
       "      <td>51</td>\n",
       "      <td>151676</td>\n",
       "      <td>Layer1</td>\n",
       "    </tr>\n",
       "  </tbody>\n",
       "</table>\n",
       "<p>3460 rows × 5 columns</p>\n",
       "</div>"
      ],
      "text/plain": [
       "                    in_tissue  array_row  array_col  sce.sample_name  \\\n",
       "AAACAAGTATCTCCCA-1          1         50        102           151676   \n",
       "AAACAATCTACTAGCA-1          1          3         43           151676   \n",
       "AAACACCAATAACTGC-1          1         59         19           151676   \n",
       "AAACAGAGCGACTCCT-1          1         14         94           151676   \n",
       "AAACAGGGTCTATATT-1          1         47         13           151676   \n",
       "...                       ...        ...        ...              ...   \n",
       "TTGTTGTGTGTCAAGA-1          1         31         77           151676   \n",
       "TTGTTTCACATCCAGG-1          1         58         42           151676   \n",
       "TTGTTTCATTAGTCTA-1          1         60         30           151676   \n",
       "TTGTTTCCATACAACT-1          1         45         27           151676   \n",
       "TTGTTTGTGTAAATTC-1          1          7         51           151676   \n",
       "\n",
       "                   sce.layer_guess  \n",
       "AAACAAGTATCTCCCA-1          Layer3  \n",
       "AAACAATCTACTAGCA-1          Layer1  \n",
       "AAACACCAATAACTGC-1              WM  \n",
       "AAACAGAGCGACTCCT-1          Layer3  \n",
       "AAACAGGGTCTATATT-1          Layer6  \n",
       "...                            ...  \n",
       "TTGTTGTGTGTCAAGA-1          Layer6  \n",
       "TTGTTTCACATCCAGG-1              WM  \n",
       "TTGTTTCATTAGTCTA-1              WM  \n",
       "TTGTTTCCATACAACT-1          Layer6  \n",
       "TTGTTTGTGTAAATTC-1          Layer1  \n",
       "\n",
       "[3460 rows x 5 columns]"
      ]
     },
     "execution_count": 7,
     "metadata": {},
     "output_type": "execute_result"
    }
   ],
   "source": [
    "ann_data['151676'].obs"
   ]
  },
  {
   "cell_type": "code",
   "execution_count": 8,
   "id": "26aefce3",
   "metadata": {},
   "outputs": [
    {
     "data": {
      "text/plain": [
       "(3460, 5)"
      ]
     },
     "execution_count": 8,
     "metadata": {},
     "output_type": "execute_result"
    }
   ],
   "source": [
    "ann_data['151676'].obs.shape"
   ]
  },
  {
   "cell_type": "markdown",
   "id": "e6cff3c3",
   "metadata": {},
   "source": [
    "`in_tissue` specifies where the spot was taken from tissue (1) or not (0). \n",
    "Let's see which samples don't come from tissue for this patient:"
   ]
  },
  {
   "cell_type": "code",
   "execution_count": 9,
   "id": "d9758bbe",
   "metadata": {},
   "outputs": [
    {
     "data": {
      "text/plain": [
       "Series([], Name: in_tissue, dtype: int64)"
      ]
     },
     "execution_count": 9,
     "metadata": {},
     "output_type": "execute_result"
    }
   ],
   "source": [
    "ann_data['151676'].obs['in_tissue'].loc[ann_data['151676'].obs['in_tissue'] == 0]"
   ]
  },
  {
   "cell_type": "markdown",
   "id": "456a1e17",
   "metadata": {},
   "source": [
    "Let's now check this for each patient:"
   ]
  },
  {
   "cell_type": "code",
   "execution_count": 10,
   "id": "fb99d303",
   "metadata": {},
   "outputs": [
    {
     "name": "stdout",
     "output_type": "stream",
     "text": [
      "No patient has samples that don't come from tissue. `in_tissue` information is redundant\n"
     ]
    }
   ],
   "source": [
    "no_tissue = False\n",
    "for patient_id in ann_data.keys():\n",
    "    len_i = len(ann_data[patient_id].obs['in_tissue'].loc[ann_data[patient_id].obs['in_tissue'] == 0])\n",
    "    no_tissue = len_i != 0\n",
    "    if no_tissue:\n",
    "        print(f\"patient {patient_id} has samples that don't come from tissue\")\n",
    "\n",
    "if not no_tissue:\n",
    "    print(\"No patient has samples that don't come from tissue. `in_tissue` information is redundant\")"
   ]
  },
  {
   "cell_type": "markdown",
   "id": "04a4dde8",
   "metadata": {},
   "source": [
    "As different barcodes share the same row, the rows should not be unique, let's check that:"
   ]
  },
  {
   "cell_type": "code",
   "execution_count": 11,
   "id": "88a05464",
   "metadata": {},
   "outputs": [
    {
     "data": {
      "text/plain": [
       "False"
      ]
     },
     "execution_count": 11,
     "metadata": {},
     "output_type": "execute_result"
    }
   ],
   "source": [
    "ann_data['151676'].obs['array_row'].is_unique"
   ]
  },
  {
   "cell_type": "markdown",
   "id": "a031b3dc",
   "metadata": {},
   "source": [
    "`sample_name` should have the name of the patient only:"
   ]
  },
  {
   "cell_type": "code",
   "execution_count": 12,
   "id": "77a66497",
   "metadata": {},
   "outputs": [
    {
     "data": {
      "text/plain": [
       "AAACAAGTATCTCCCA-1    151676\n",
       "AAACAATCTACTAGCA-1    151676\n",
       "AAACACCAATAACTGC-1    151676\n",
       "AAACAGAGCGACTCCT-1    151676\n",
       "AAACAGGGTCTATATT-1    151676\n",
       "                       ...  \n",
       "TTGTTGTGTGTCAAGA-1    151676\n",
       "TTGTTTCACATCCAGG-1    151676\n",
       "TTGTTTCATTAGTCTA-1    151676\n",
       "TTGTTTCCATACAACT-1    151676\n",
       "TTGTTTGTGTAAATTC-1    151676\n",
       "Name: sce.sample_name, Length: 3460, dtype: int64"
      ]
     },
     "execution_count": 12,
     "metadata": {},
     "output_type": "execute_result"
    }
   ],
   "source": [
    "ann_data['151676'].obs['sce.sample_name']"
   ]
  },
  {
   "cell_type": "markdown",
   "id": "2ba09f5a",
   "metadata": {},
   "source": [
    "### Layers\n",
    "\n",
    "Each spot is classified with the layer it's said to belong to:\n",
    "\n",
    "Six histological layers + white matter. Specifically:\n",
    "\n",
    "- **Layer 1** – the molecular layer (few cell bodies, mostly neuropil)\n",
    "- **Layer 2** – external granular layer (small densely packed neurons)\n",
    "- **Layer 3** – external pyramidal layer (medium-sized pyramidal neurons)\n",
    "- **Layer 4** – internal granular layer (stellate and granular cells)\n",
    "- **Layer 5** – internal pyramidal layer (large pyramidal neurons projecting to subcortical targets)\n",
    "- **Layer 6** – multiform (fusiform) layer (varied cell types sending feedback to the thalamus)\n",
    "- **WM** – White Matter, the fiber-tract region beneath the cortical layers, composed mainly of myelinated axons rather than neuronal cell bodies."
   ]
  },
  {
   "cell_type": "code",
   "execution_count": 13,
   "id": "22de216f",
   "metadata": {},
   "outputs": [
    {
     "data": {
      "text/plain": [
       "AAACAAGTATCTCCCA-1    Layer3\n",
       "AAACAATCTACTAGCA-1    Layer1\n",
       "AAACACCAATAACTGC-1        WM\n",
       "AAACAGAGCGACTCCT-1    Layer3\n",
       "AAACAGGGTCTATATT-1    Layer6\n",
       "                       ...  \n",
       "TTGTTGTGTGTCAAGA-1    Layer6\n",
       "TTGTTTCACATCCAGG-1        WM\n",
       "TTGTTTCATTAGTCTA-1        WM\n",
       "TTGTTTCCATACAACT-1    Layer6\n",
       "TTGTTTGTGTAAATTC-1    Layer1\n",
       "Name: sce.layer_guess, Length: 3460, dtype: category\n",
       "Categories (7, object): ['Layer1', 'Layer2', 'Layer3', 'Layer4', 'Layer5', 'Layer6', 'WM']"
      ]
     },
     "execution_count": 13,
     "metadata": {},
     "output_type": "execute_result"
    }
   ],
   "source": [
    "ann_data['151676'].obs['sce.layer_guess']"
   ]
  },
  {
   "cell_type": "markdown",
   "id": "f6c0d30c",
   "metadata": {},
   "source": [
    "## Var description"
   ]
  },
  {
   "cell_type": "code",
   "execution_count": 14,
   "id": "cfd39d37",
   "metadata": {},
   "outputs": [
    {
     "data": {
      "text/html": [
       "<div>\n",
       "<style scoped>\n",
       "    .dataframe tbody tr th:only-of-type {\n",
       "        vertical-align: middle;\n",
       "    }\n",
       "\n",
       "    .dataframe tbody tr th {\n",
       "        vertical-align: top;\n",
       "    }\n",
       "\n",
       "    .dataframe thead th {\n",
       "        text-align: right;\n",
       "    }\n",
       "</style>\n",
       "<table border=\"1\" class=\"dataframe\">\n",
       "  <thead>\n",
       "    <tr style=\"text-align: right;\">\n",
       "      <th></th>\n",
       "      <th>gene_ids</th>\n",
       "      <th>feature_types</th>\n",
       "      <th>genome</th>\n",
       "    </tr>\n",
       "  </thead>\n",
       "  <tbody>\n",
       "    <tr>\n",
       "      <th>MIR1302-2HG</th>\n",
       "      <td>ENSG00000243485</td>\n",
       "      <td>Gene Expression</td>\n",
       "      <td>GRCh38</td>\n",
       "    </tr>\n",
       "    <tr>\n",
       "      <th>FAM138A</th>\n",
       "      <td>ENSG00000237613</td>\n",
       "      <td>Gene Expression</td>\n",
       "      <td>GRCh38</td>\n",
       "    </tr>\n",
       "    <tr>\n",
       "      <th>OR4F5</th>\n",
       "      <td>ENSG00000186092</td>\n",
       "      <td>Gene Expression</td>\n",
       "      <td>GRCh38</td>\n",
       "    </tr>\n",
       "    <tr>\n",
       "      <th>AL627309.1</th>\n",
       "      <td>ENSG00000238009</td>\n",
       "      <td>Gene Expression</td>\n",
       "      <td>GRCh38</td>\n",
       "    </tr>\n",
       "    <tr>\n",
       "      <th>AL627309.3</th>\n",
       "      <td>ENSG00000239945</td>\n",
       "      <td>Gene Expression</td>\n",
       "      <td>GRCh38</td>\n",
       "    </tr>\n",
       "    <tr>\n",
       "      <th>...</th>\n",
       "      <td>...</td>\n",
       "      <td>...</td>\n",
       "      <td>...</td>\n",
       "    </tr>\n",
       "    <tr>\n",
       "      <th>AC233755.2</th>\n",
       "      <td>ENSG00000277856</td>\n",
       "      <td>Gene Expression</td>\n",
       "      <td>GRCh38</td>\n",
       "    </tr>\n",
       "    <tr>\n",
       "      <th>AC233755.1</th>\n",
       "      <td>ENSG00000275063</td>\n",
       "      <td>Gene Expression</td>\n",
       "      <td>GRCh38</td>\n",
       "    </tr>\n",
       "    <tr>\n",
       "      <th>AC240274.1</th>\n",
       "      <td>ENSG00000271254</td>\n",
       "      <td>Gene Expression</td>\n",
       "      <td>GRCh38</td>\n",
       "    </tr>\n",
       "    <tr>\n",
       "      <th>AC213203.1</th>\n",
       "      <td>ENSG00000277475</td>\n",
       "      <td>Gene Expression</td>\n",
       "      <td>GRCh38</td>\n",
       "    </tr>\n",
       "    <tr>\n",
       "      <th>FAM231C</th>\n",
       "      <td>ENSG00000268674</td>\n",
       "      <td>Gene Expression</td>\n",
       "      <td>GRCh38</td>\n",
       "    </tr>\n",
       "  </tbody>\n",
       "</table>\n",
       "<p>33538 rows × 3 columns</p>\n",
       "</div>"
      ],
      "text/plain": [
       "                    gene_ids    feature_types  genome\n",
       "MIR1302-2HG  ENSG00000243485  Gene Expression  GRCh38\n",
       "FAM138A      ENSG00000237613  Gene Expression  GRCh38\n",
       "OR4F5        ENSG00000186092  Gene Expression  GRCh38\n",
       "AL627309.1   ENSG00000238009  Gene Expression  GRCh38\n",
       "AL627309.3   ENSG00000239945  Gene Expression  GRCh38\n",
       "...                      ...              ...     ...\n",
       "AC233755.2   ENSG00000277856  Gene Expression  GRCh38\n",
       "AC233755.1   ENSG00000275063  Gene Expression  GRCh38\n",
       "AC240274.1   ENSG00000271254  Gene Expression  GRCh38\n",
       "AC213203.1   ENSG00000277475  Gene Expression  GRCh38\n",
       "FAM231C      ENSG00000268674  Gene Expression  GRCh38\n",
       "\n",
       "[33538 rows x 3 columns]"
      ]
     },
     "execution_count": 14,
     "metadata": {},
     "output_type": "execute_result"
    }
   ],
   "source": [
    "ann_data['151676'].var"
   ]
  },
  {
   "cell_type": "markdown",
   "id": "bf199f04",
   "metadata": {},
   "source": [
    "`feature_types` is redundant, they are all Gene Expressions:"
   ]
  },
  {
   "cell_type": "code",
   "execution_count": 36,
   "id": "75b18025",
   "metadata": {},
   "outputs": [
    {
     "data": {
      "text/plain": [
       "array(['Gene Expression'], dtype=object)"
      ]
     },
     "execution_count": 36,
     "metadata": {},
     "output_type": "execute_result"
    }
   ],
   "source": [
    "np.unique(ann_data['151676'].var['feature_types'])"
   ]
  },
  {
   "cell_type": "markdown",
   "id": "2068e1c4",
   "metadata": {},
   "source": [
    "`genome` is redundant, they are all `GRCh38`:"
   ]
  },
  {
   "cell_type": "code",
   "execution_count": 37,
   "id": "b326ce8c",
   "metadata": {},
   "outputs": [
    {
     "data": {
      "text/plain": [
       "array(['GRCh38'], dtype=object)"
      ]
     },
     "execution_count": 37,
     "metadata": {},
     "output_type": "execute_result"
    }
   ],
   "source": [
    "np.unique(ann_data['151676'].var['genome'])"
   ]
  },
  {
   "cell_type": "code",
   "execution_count": 40,
   "id": "9210cba7",
   "metadata": {},
   "outputs": [
    {
     "data": {
      "text/plain": [
       "array(['ENSG00000000003', 'ENSG00000000005', 'ENSG00000000419', ...,\n",
       "       'ENSG00000285508', 'ENSG00000285509', 'ENSG00000285513'],\n",
       "      shape=(33538,), dtype=object)"
      ]
     },
     "execution_count": 40,
     "metadata": {},
     "output_type": "execute_result"
    }
   ],
   "source": [
    "np.unique(ann_data['151676'].var['gene_ids'])"
   ]
  },
  {
   "cell_type": "markdown",
   "id": "2a28076b",
   "metadata": {},
   "source": [
    "### Obsm description"
   ]
  },
  {
   "cell_type": "code",
   "execution_count": 15,
   "id": "addf8c0d",
   "metadata": {},
   "outputs": [
    {
     "name": "stdout",
     "output_type": "stream",
     "text": [
      "AxisArrays with keys: spatial\n"
     ]
    }
   ],
   "source": [
    "print(ann_data['151676'].obsm)"
   ]
  },
  {
   "cell_type": "code",
   "execution_count": 16,
   "id": "aa1451af",
   "metadata": {},
   "outputs": [
    {
     "name": "stdout",
     "output_type": "stream",
     "text": [
      "[[9650 2594]\n",
      " [5630 8254]\n",
      " [3928 1558]\n",
      " ...\n",
      " [4684 1433]\n",
      " [4491 3231]\n",
      " [6177 7771]]\n"
     ]
    }
   ],
   "source": [
    "print(ann_data['151676'].obsm['spatial'])"
   ]
  },
  {
   "cell_type": "markdown",
   "id": "dd5be504",
   "metadata": {},
   "source": [
    "### Obsp description"
   ]
  },
  {
   "cell_type": "markdown",
   "id": "fe730396",
   "metadata": {},
   "source": [
    "`obsp` data contains two matrices:\n",
    "- Spatial Connectivities matrix\n",
    "- Spatial Distances matrix\n",
    "\n",
    "The first is to indicate whether cells are connected to each other, the other to indicate what the weighted distances in those connections are."
   ]
  },
  {
   "cell_type": "code",
   "execution_count": 17,
   "id": "b198e2b2",
   "metadata": {},
   "outputs": [
    {
     "name": "stdout",
     "output_type": "stream",
     "text": [
      "PairwiseArrays with keys: spatial_connectivities, spatial_distances\n"
     ]
    }
   ],
   "source": [
    "print(ann_data['151676'].obsp)"
   ]
  },
  {
   "cell_type": "code",
   "execution_count": 18,
   "id": "7abbe2c7",
   "metadata": {},
   "outputs": [
    {
     "name": "stdout",
     "output_type": "stream",
     "text": [
      "<Compressed Sparse Row sparse matrix of dtype 'float64'\n",
      "\twith 20052 stored elements and shape (3460, 3460)>\n",
      "  Coords\tValues\n",
      "  (0, 368)\t1.0\n",
      "  (0, 451)\t1.0\n",
      "  (0, 991)\t1.0\n",
      "  (0, 2001)\t1.0\n",
      "  (0, 2207)\t1.0\n",
      "  (0, 3367)\t1.0\n",
      "  (1, 645)\t1.0\n",
      "  (1, 1404)\t1.0\n",
      "  (1, 1521)\t1.0\n",
      "  (1, 2069)\t1.0\n",
      "  (1, 2212)\t1.0\n",
      "  (1, 2726)\t1.0\n",
      "  (2, 545)\t1.0\n",
      "  (2, 1613)\t1.0\n",
      "  (2, 1740)\t1.0\n",
      "  (2, 2159)\t1.0\n",
      "  (2, 2877)\t1.0\n",
      "  (2, 3151)\t1.0\n",
      "  (3, 997)\t1.0\n",
      "  (3, 1968)\t1.0\n",
      "  (3, 2120)\t1.0\n",
      "  (3, 2822)\t1.0\n",
      "  (3, 2825)\t1.0\n",
      "  (3, 3416)\t1.0\n",
      "  (4, 258)\t1.0\n",
      "  :\t:\n",
      "  (3455, 3436)\t1.0\n",
      "  (3456, 374)\t1.0\n",
      "  (3456, 1415)\t1.0\n",
      "  (3456, 1535)\t1.0\n",
      "  (3456, 2428)\t1.0\n",
      "  (3456, 2500)\t1.0\n",
      "  (3456, 2797)\t1.0\n",
      "  (3457, 62)\t1.0\n",
      "  (3457, 289)\t1.0\n",
      "  (3457, 788)\t1.0\n",
      "  (3457, 1770)\t1.0\n",
      "  (3457, 2743)\t1.0\n",
      "  (3457, 3117)\t1.0\n",
      "  (3458, 542)\t1.0\n",
      "  (3458, 1709)\t1.0\n",
      "  (3458, 1858)\t1.0\n",
      "  (3458, 2488)\t1.0\n",
      "  (3458, 2685)\t1.0\n",
      "  (3458, 3238)\t1.0\n",
      "  (3459, 114)\t1.0\n",
      "  (3459, 1476)\t1.0\n",
      "  (3459, 2044)\t1.0\n",
      "  (3459, 2187)\t1.0\n",
      "  (3459, 2377)\t1.0\n",
      "  (3459, 3232)\t1.0\n"
     ]
    }
   ],
   "source": [
    "print(ann_data['151676'].obsp['spatial_connectivities'])"
   ]
  },
  {
   "cell_type": "code",
   "execution_count": 19,
   "id": "d05d7d1f",
   "metadata": {},
   "outputs": [
    {
     "name": "stdout",
     "output_type": "stream",
     "text": [
      "<Compressed Sparse Row sparse matrix of dtype 'float64'\n",
      "\twith 20052 stored elements and shape (3460, 3460)>\n",
      "  Coords\tValues\n",
      "  (0, 368)\t1.0\n",
      "  (0, 451)\t1.0\n",
      "  (0, 991)\t1.0\n",
      "  (0, 2001)\t1.0\n",
      "  (0, 2207)\t1.0\n",
      "  (0, 3367)\t1.0\n",
      "  (1, 645)\t1.0\n",
      "  (1, 1404)\t1.0\n",
      "  (1, 1521)\t1.0\n",
      "  (1, 2069)\t1.0\n",
      "  (1, 2212)\t1.0\n",
      "  (1, 2726)\t1.0\n",
      "  (2, 545)\t1.0\n",
      "  (2, 1613)\t1.0\n",
      "  (2, 1740)\t1.0\n",
      "  (2, 2159)\t1.0\n",
      "  (2, 2877)\t1.0\n",
      "  (2, 3151)\t1.0\n",
      "  (3, 997)\t1.0\n",
      "  (3, 1968)\t1.0\n",
      "  (3, 2120)\t1.0\n",
      "  (3, 2822)\t1.0\n",
      "  (3, 2825)\t1.0\n",
      "  (3, 3416)\t1.0\n",
      "  (4, 258)\t1.0\n",
      "  :\t:\n",
      "  (3455, 3436)\t1.0\n",
      "  (3456, 374)\t1.0\n",
      "  (3456, 1415)\t1.0\n",
      "  (3456, 1535)\t1.0\n",
      "  (3456, 2428)\t1.0\n",
      "  (3456, 2500)\t1.0\n",
      "  (3456, 2797)\t1.0\n",
      "  (3457, 62)\t1.0\n",
      "  (3457, 289)\t1.0\n",
      "  (3457, 788)\t1.0\n",
      "  (3457, 1770)\t1.0\n",
      "  (3457, 2743)\t1.0\n",
      "  (3457, 3117)\t1.0\n",
      "  (3458, 542)\t1.0\n",
      "  (3458, 1709)\t1.0\n",
      "  (3458, 1858)\t1.0\n",
      "  (3458, 2488)\t1.0\n",
      "  (3458, 2685)\t1.0\n",
      "  (3458, 3238)\t1.0\n",
      "  (3459, 114)\t1.0\n",
      "  (3459, 1476)\t1.0\n",
      "  (3459, 2044)\t1.0\n",
      "  (3459, 2187)\t1.0\n",
      "  (3459, 2377)\t1.0\n",
      "  (3459, 3232)\t1.0\n"
     ]
    }
   ],
   "source": [
    "spatial_connectivities = ann_data['151676'].obsp['spatial_connectivities']\n",
    "print(spatial_connectivities)"
   ]
  },
  {
   "cell_type": "code",
   "execution_count": 20,
   "id": "e7a56a3d",
   "metadata": {},
   "outputs": [
    {
     "name": "stdout",
     "output_type": "stream",
     "text": [
      "<Compressed Sparse Row sparse matrix of dtype 'float64'\n",
      "\twith 20052 stored elements and shape (3460, 3460)>\n",
      "  Coords\tValues\n",
      "  (0, 368)\t1.0\n",
      "  (0, 451)\t1.0\n",
      "  (0, 991)\t1.0\n",
      "  (0, 2001)\t1.0\n",
      "  (0, 2207)\t1.0\n",
      "  (0, 3367)\t1.0\n",
      "  (1, 645)\t1.0\n",
      "  (1, 1404)\t1.0\n",
      "  (1, 1521)\t1.0\n",
      "  (1, 2069)\t1.0\n",
      "  (1, 2212)\t1.0\n",
      "  (1, 2726)\t1.0\n",
      "  (2, 545)\t1.0\n",
      "  (2, 1613)\t1.0\n",
      "  (2, 1740)\t1.0\n",
      "  (2, 2159)\t1.0\n",
      "  (2, 2877)\t1.0\n",
      "  (2, 3151)\t1.0\n",
      "  (3, 997)\t1.0\n",
      "  (3, 1968)\t1.0\n",
      "  (3, 2120)\t1.0\n",
      "  (3, 2822)\t1.0\n",
      "  (3, 2825)\t1.0\n",
      "  (3, 3416)\t1.0\n",
      "  (4, 258)\t1.0\n",
      "  :\t:\n",
      "  (3455, 3436)\t1.0\n",
      "  (3456, 374)\t1.0\n",
      "  (3456, 1415)\t1.0\n",
      "  (3456, 1535)\t1.0\n",
      "  (3456, 2428)\t1.0\n",
      "  (3456, 2500)\t1.0\n",
      "  (3456, 2797)\t1.0\n",
      "  (3457, 62)\t1.0\n",
      "  (3457, 289)\t1.0\n",
      "  (3457, 788)\t1.0\n",
      "  (3457, 1770)\t1.0\n",
      "  (3457, 2743)\t1.0\n",
      "  (3457, 3117)\t1.0\n",
      "  (3458, 542)\t1.0\n",
      "  (3458, 1709)\t1.0\n",
      "  (3458, 1858)\t1.0\n",
      "  (3458, 2488)\t1.0\n",
      "  (3458, 2685)\t1.0\n",
      "  (3458, 3238)\t1.0\n",
      "  (3459, 114)\t1.0\n",
      "  (3459, 1476)\t1.0\n",
      "  (3459, 2044)\t1.0\n",
      "  (3459, 2187)\t1.0\n",
      "  (3459, 2377)\t1.0\n",
      "  (3459, 3232)\t1.0\n"
     ]
    }
   ],
   "source": [
    "spatial_distances = ann_data['151676'].obsp['spatial_distances']\n",
    "print(spatial_distances)"
   ]
  },
  {
   "cell_type": "code",
   "execution_count": 44,
   "id": "101d9958",
   "metadata": {},
   "outputs": [
    {
     "name": "stdout",
     "output_type": "stream",
     "text": [
      "Are `connectivities` and `distances` identical? True\n"
     ]
    }
   ],
   "source": [
    "import numpy as np\n",
    "import scipy.sparse as sp\n",
    "\n",
    "assert spatial_connectivities.shape == spatial_distances.shape, \"Shapes differ!\"\n",
    "\n",
    "identical = ((spatial_connectivities != spatial_distances).nnz == 0)\n",
    "\n",
    "print(\"Are `connectivities` and `distances` identical?\", identical)"
   ]
  },
  {
   "cell_type": "markdown",
   "id": "cf7425d2",
   "metadata": {},
   "source": [
    "### Unstructured data"
   ]
  },
  {
   "cell_type": "code",
   "execution_count": 22,
   "id": "29d7366d",
   "metadata": {},
   "outputs": [
    {
     "data": {
      "text/plain": [
       "dict_keys(['spatial', 'spatial_neighbors', 'transforms'])"
      ]
     },
     "execution_count": 22,
     "metadata": {},
     "output_type": "execute_result"
    }
   ],
   "source": [
    "ann_data['151676'].uns.keys()"
   ]
  },
  {
   "cell_type": "code",
   "execution_count": 23,
   "id": "92ad5f08",
   "metadata": {},
   "outputs": [
    {
     "name": "stdout",
     "output_type": "stream",
     "text": [
      "uns spatial neighbors:  dict_keys(['connectivities_key', 'distances_key', 'params'])\n",
      "uns spatial neighbors connectivities_key: spatial_connectivities\n",
      "uns spatial_neighbors distances_key: spatial_distances\n",
      "uns spatial_neighbors params:  {'coord_type': 'grid', 'n_neighbors': np.int64(6)}\n"
     ]
    }
   ],
   "source": [
    "print(\"uns spatial neighbors: \", ann_data['151676'].uns['spatial_neighbors'].keys())\n",
    "print(\"uns spatial neighbors connectivities_key:\", ann_data['151676'].uns['spatial_neighbors']['connectivities_key'])\n",
    "print(\"uns spatial_neighbors distances_key:\", ann_data['151676'].uns['spatial_neighbors']['distances_key'])\n",
    "print(\"uns spatial_neighbors params: \", ann_data['151676'].uns['spatial_neighbors']['params'])"
   ]
  },
  {
   "cell_type": "code",
   "execution_count": 24,
   "id": "ea014199",
   "metadata": {},
   "outputs": [
    {
     "name": "stdout",
     "output_type": "stream",
     "text": [
      "uns:  dict_keys(['151676'])\n",
      "uns:  dict_keys(['images', 'metadata', 'scalefactors'])\n"
     ]
    }
   ],
   "source": [
    "print(\"uns: \", ann_data['151676'].uns['spatial'].keys())\n",
    "print(\"uns: \", ann_data['151676'].uns['spatial']['151676'].keys())"
   ]
  },
  {
   "cell_type": "code",
   "execution_count": 43,
   "id": "5e11c9a1",
   "metadata": {},
   "outputs": [
    {
     "name": "stdout",
     "output_type": "stream",
     "text": [
      "uns images: dict_keys(['hires', 'lowres'])\n",
      "images high resolution:  [[[0.6784314  0.69411767 0.6901961 ]\n",
      "  [0.6784314  0.69803923 0.6901961 ]\n",
      "  [0.6784314  0.69411767 0.6862745 ]\n",
      "  ...\n",
      "  [0.6666667  0.6862745  0.6862745 ]\n",
      "  [0.67058825 0.6901961  0.6901961 ]\n",
      "  [0.67058825 0.6901961  0.6901961 ]]\n",
      "\n",
      " [[0.68235296 0.69803923 0.6901961 ]\n",
      "  [0.6784314  0.69803923 0.6901961 ]\n",
      "  [0.68235296 0.69411767 0.6862745 ]\n",
      "  ...\n",
      "  [0.6666667  0.6901961  0.68235296]\n",
      "  [0.67058825 0.69411767 0.6862745 ]\n",
      "  [0.67058825 0.69411767 0.68235296]]\n",
      "\n",
      " [[0.68235296 0.69411767 0.6862745 ]\n",
      "  [0.68235296 0.69803923 0.6901961 ]\n",
      "  [0.6784314  0.69411767 0.6901961 ]\n",
      "  ...\n",
      "  [0.6745098  0.6901961  0.6901961 ]\n",
      "  [0.67058825 0.6901961  0.6862745 ]\n",
      "  [0.6745098  0.6901961  0.6862745 ]]\n",
      "\n",
      " ...\n",
      "\n",
      " [[0.6745098  0.69411767 0.6901961 ]\n",
      "  [0.6745098  0.69411767 0.6901961 ]\n",
      "  [0.6784314  0.69411767 0.6901961 ]\n",
      "  ...\n",
      "  [0.6745098  0.69803923 0.6901961 ]\n",
      "  [0.6784314  0.69803923 0.69411767]\n",
      "  [0.6745098  0.69411767 0.6862745 ]]\n",
      "\n",
      " [[0.6745098  0.69411767 0.6862745 ]\n",
      "  [0.6745098  0.69411767 0.68235296]\n",
      "  [0.6784314  0.69803923 0.6901961 ]\n",
      "  ...\n",
      "  [0.6784314  0.69803923 0.6901961 ]\n",
      "  [0.6784314  0.69411767 0.6862745 ]\n",
      "  [0.6784314  0.69411767 0.6901961 ]]\n",
      "\n",
      " [[0.6745098  0.69803923 0.6862745 ]\n",
      "  [0.6745098  0.69411767 0.6862745 ]\n",
      "  [0.67058825 0.69411767 0.6901961 ]\n",
      "  ...\n",
      "  [0.6784314  0.69803923 0.69411767]\n",
      "  [0.6784314  0.69803923 0.6901961 ]\n",
      "  [0.68235296 0.69411767 0.6901961 ]]]\n",
      "images low resolution:  [[[0.6784314  0.69411767 0.6901961 ]\n",
      "  [0.6784314  0.69411767 0.6862745 ]\n",
      "  [0.6784314  0.69803923 0.6901961 ]\n",
      "  ...\n",
      "  [0.6745098  0.6901961  0.6862745 ]\n",
      "  [0.67058825 0.6901961  0.6862745 ]\n",
      "  [0.67058825 0.6901961  0.6862745 ]]\n",
      "\n",
      " [[0.6784314  0.69411767 0.6901961 ]\n",
      "  [0.6784314  0.69803923 0.6862745 ]\n",
      "  [0.6784314  0.69803923 0.6901961 ]\n",
      "  ...\n",
      "  [0.67058825 0.6901961  0.68235296]\n",
      "  [0.67058825 0.69411767 0.6862745 ]\n",
      "  [0.67058825 0.6901961  0.6862745 ]]\n",
      "\n",
      " [[0.6666667  0.6901961  0.6784314 ]\n",
      "  [0.6784314  0.69803923 0.6862745 ]\n",
      "  [0.6784314  0.69803923 0.6862745 ]\n",
      "  ...\n",
      "  [0.67058825 0.6901961  0.68235296]\n",
      "  [0.6745098  0.69411767 0.6862745 ]\n",
      "  [0.6745098  0.6901961  0.6862745 ]]\n",
      "\n",
      " ...\n",
      "\n",
      " [[0.6745098  0.69411767 0.6862745 ]\n",
      "  [0.6745098  0.69411767 0.6862745 ]\n",
      "  [0.6666667  0.6862745  0.68235296]\n",
      "  ...\n",
      "  [0.6784314  0.69411767 0.6862745 ]\n",
      "  [0.6784314  0.69803923 0.6901961 ]\n",
      "  [0.68235296 0.69803923 0.6862745 ]]\n",
      "\n",
      " [[0.6745098  0.69411767 0.6901961 ]\n",
      "  [0.6745098  0.69411767 0.6901961 ]\n",
      "  [0.6745098  0.6901961  0.6862745 ]\n",
      "  ...\n",
      "  [0.6784314  0.69803923 0.6862745 ]\n",
      "  [0.68235296 0.69803923 0.6901961 ]\n",
      "  [0.6784314  0.69803923 0.6901961 ]]\n",
      "\n",
      " [[0.6745098  0.69411767 0.6862745 ]\n",
      "  [0.6784314  0.69411767 0.6901961 ]\n",
      "  [0.6784314  0.69411767 0.6901961 ]\n",
      "  ...\n",
      "  [0.68235296 0.69803923 0.6862745 ]\n",
      "  [0.68235296 0.69803923 0.6901961 ]\n",
      "  [0.6784314  0.69411767 0.6901961 ]]]\n"
     ]
    }
   ],
   "source": [
    "print(\"uns images:\", ann_data['151676'].uns['spatial']['151676']['images'].keys())\n",
    "print(\"images high resolution: \", ann_data['151676'].uns['spatial']['151676']['images']['hires'])\n",
    "print(\"images low resolution: \", ann_data['151676'].uns['spatial']['151676']['images']['lowres'])"
   ]
  },
  {
   "cell_type": "code",
   "execution_count": 26,
   "id": "e9f76b60",
   "metadata": {},
   "outputs": [
    {
     "name": "stdout",
     "output_type": "stream",
     "text": [
      "uns spatial metadata: dict_keys(['chemistry_description', 'software_version'])\n",
      "chemistry_description:  custom\n",
      "software_version:  4509.5.5\n"
     ]
    }
   ],
   "source": [
    "print(\"uns spatial metadata:\", ann_data['151676'].uns['spatial']['151676']['metadata'].keys())\n",
    "print(\"chemistry_description: \", ann_data['151676'].uns['spatial']['151676']['metadata']['chemistry_description'])\n",
    "print(\"software_version: \", ann_data['151676'].uns['spatial']['151676']['metadata']['software_version'])"
   ]
  },
  {
   "cell_type": "code",
   "execution_count": 27,
   "id": "725d321e",
   "metadata": {},
   "outputs": [
    {
     "name": "stdout",
     "output_type": "stream",
     "text": [
      "uns:  {'connectivities_key': 'spatial_connectivities', 'distances_key': 'spatial_distances', 'params': {'coord_type': 'grid', 'n_neighbors': np.int64(6)}}\n"
     ]
    }
   ],
   "source": [
    "print(\"uns: \", ann_data['151676'].uns['spatial_neighbors'])"
   ]
  },
  {
   "cell_type": "code",
   "execution_count": 28,
   "id": "c8e08f70",
   "metadata": {},
   "outputs": [
    {
     "name": "stdout",
     "output_type": "stream",
     "text": [
      "uns:  [\"KNN(['n_neighbors=6'])\"]\n"
     ]
    }
   ],
   "source": [
    "print(\"uns: \", ann_data['151676'].uns['transforms'])"
   ]
  },
  {
   "cell_type": "markdown",
   "id": "adb4cdac",
   "metadata": {},
   "source": [
    "### X description"
   ]
  },
  {
   "cell_type": "markdown",
   "id": "33ad0561",
   "metadata": {},
   "source": [
    "Each entry in the X matrix is a `UMI` count (i.e. how many mRNA molecules of that gene were captured in that spot).\n",
    "\n",
    "- UMI: Unique molecular identifiers - associated with a particular gene or transcript in a sequencing experiment"
   ]
  },
  {
   "cell_type": "code",
   "execution_count": 29,
   "id": "018f784e",
   "metadata": {},
   "outputs": [
    {
     "name": "stdout",
     "output_type": "stream",
     "text": [
      "X:  (3460, 33538)\n"
     ]
    }
   ],
   "source": [
    "print(\"X: \", ann_data['151676'].X.shape)"
   ]
  },
  {
   "cell_type": "code",
   "execution_count": 30,
   "id": "d58c22a7",
   "metadata": {},
   "outputs": [
    {
     "data": {
      "text/plain": [
       "'AAAGTGTGATTTATCT-1'"
      ]
     },
     "execution_count": 30,
     "metadata": {},
     "output_type": "execute_result"
    }
   ],
   "source": [
    "ann_data['151676'].obs_names[32]"
   ]
  },
  {
   "cell_type": "markdown",
   "id": "716ac0f9",
   "metadata": {},
   "source": [
    "X is represented as a Sparse Matrix to save memory, as for each cell, very few genes are expressed."
   ]
  },
  {
   "cell_type": "code",
   "execution_count": 35,
   "id": "547351fe",
   "metadata": {},
   "outputs": [
    {
     "data": {
      "text/plain": [
       "<Compressed Sparse Row sparse matrix of dtype 'float32'\n",
       "\twith 6700560 stored elements and shape (3460, 33538)>"
      ]
     },
     "execution_count": 35,
     "metadata": {},
     "output_type": "execute_result"
    }
   ],
   "source": [
    "ann_data['151676'].X"
   ]
  },
  {
   "cell_type": "code",
   "execution_count": 34,
   "id": "793aed0e",
   "metadata": {},
   "outputs": [
    {
     "data": {
      "text/plain": [
       "scipy.sparse._csr.csr_matrix"
      ]
     },
     "execution_count": 34,
     "metadata": {},
     "output_type": "execute_result"
    }
   ],
   "source": [
    "type(ann_data['151676'].X)"
   ]
  },
  {
   "cell_type": "code",
   "execution_count": 33,
   "id": "e1d39372",
   "metadata": {},
   "outputs": [
    {
     "name": "stdout",
     "output_type": "stream",
     "text": [
      "All distinct non-zero UMI counts: [  1.   2.   3.   4.   5.   6.   7.   8.   9.  10.  11.  12.  13.  14.\n",
      "  15.  16.  17.  18.  19.  20.  21.  22.  23.  24.  25.  26.  27.  28.\n",
      "  29.  30.  31.  32.  33.  34.  35.  36.  37.  38.  39.  40.  41.  42.\n",
      "  43.  44.  45.  46.  47.  48.  49.  50.  51.  52.  53.  54.  55.  56.\n",
      "  57.  58.  59.  60.  61.  62.  63.  64.  65.  66.  67.  68.  69.  70.\n",
      "  71.  72.  73.  74.  75.  76.  77.  78.  79.  80.  81.  82.  83.  84.\n",
      "  85.  86.  87.  88.  89.  90.  91.  92.  93.  94.  95.  96.  97.  98.\n",
      "  99. 100. 101. 102. 103. 104. 105. 106. 107. 108. 109. 110. 111. 112.\n",
      " 113. 114. 115. 116. 117. 118. 119. 120. 121. 122. 123. 124. 125. 126.\n",
      " 127. 128. 129. 130. 131. 132. 133. 134. 135. 136. 137. 138. 139. 140.\n",
      " 141. 142. 143. 144. 145. 146. 147. 148. 149. 150. 151. 152. 153. 154.\n",
      " 155. 156. 157. 158. 159. 160. 161. 162. 163. 164. 165. 166. 167. 168.\n",
      " 169. 170. 171. 172. 173. 174. 175. 176. 177. 178. 179. 180. 181. 182.\n",
      " 183. 184. 185. 186. 187. 188. 189. 190. 191. 192. 193. 194. 195. 196.\n",
      " 197. 198. 199. 200. 201. 202. 203. 204. 205. 206. 207. 208. 209. 210.\n",
      " 211. 212. 213. 214. 215. 216. 217. 218. 219. 220. 221. 222. 223. 224.\n",
      " 225. 226. 227. 228. 229. 230. 231. 232. 233. 234. 235. 236. 237. 238.\n",
      " 239. 240. 241. 242. 243. 244. 245. 246. 248. 249. 250. 251. 252. 253.\n",
      " 254. 255. 256. 257. 258. 259. 260. 261. 262. 263. 264. 265. 266. 267.\n",
      " 268. 269. 270. 271. 274. 275. 276. 277. 279. 280. 282. 283. 285. 287.\n",
      " 290. 291. 292. 295. 297. 299. 300. 301. 303. 305. 306. 308. 314. 315.\n",
      " 319. 320. 321. 322. 323. 325. 335. 338. 339. 344. 346. 362. 367. 392.\n",
      " 403. 413.]\n"
     ]
    }
   ],
   "source": [
    "nonzeros = ann_data['151676'].X.data\n",
    "unique_counts = np.unique(nonzeros)\n",
    "print(\"All distinct non-zero UMI counts:\", unique_counts)"
   ]
  }
 ],
 "metadata": {
  "kernelspec": {
   "display_name": "Python (general-venv)",
   "language": "python",
   "name": "general-venv"
  },
  "language_info": {
   "codemirror_mode": {
    "name": "ipython",
    "version": 3
   },
   "file_extension": ".py",
   "mimetype": "text/x-python",
   "name": "python",
   "nbconvert_exporter": "python",
   "pygments_lexer": "ipython3",
   "version": "3.12.3"
  }
 },
 "nbformat": 4,
 "nbformat_minor": 5
}
