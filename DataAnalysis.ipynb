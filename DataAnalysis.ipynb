{
 "cells": [
  {
   "cell_type": "markdown",
   "id": "97f4fb23",
   "metadata": {},
   "source": [
    "# Data Analysis\n",
    "The goal of this Notebook is to explore and analyse the data that is going to be used in this project.\n",
    "\n",
    "## Origin of the Data\n",
    "\n",
    "The data used for this project is spatially resolved and single nucleus transcriptomics data from the dorsolateral prefrontal cortex (DLPFC) from postmortem human brain samples obtained from the [spatialDLPFC](https://github.com/LieberInstitute/spatialDLPFC) project from the [Lieber Institute for Brain Development](https://www.libd.org/)\n",
    "\n",
    "The data has been processed and can be obtained in a format that is easy to digest in Python, as it's presented in an [AnnData Object](https://anndata.readthedocs.io/en/stable/) when downloading it from [FigShare](https://figshare.com/articles/dataset/Visium_DLPFC_preprocessed/22004273).\n",
    "\n",
    "The latter is the method used throughout this project."
   ]
  },
  {
   "cell_type": "markdown",
   "id": "ff4b7732",
   "metadata": {},
   "source": [
    "## Downloading the data"
   ]
  },
  {
   "cell_type": "code",
   "execution_count": 3,
   "id": "8accb0cf",
   "metadata": {},
   "outputs": [
    {
     "name": "stdout",
     "output_type": "stream",
     "text": [
      "~/projects/GNNCellClassification/dataset ~/projects/GNNCellClassification\n",
      "Don't download data: Both data and images exists\n",
      "~/projects/GNNCellClassification\n"
     ]
    }
   ],
   "source": [
    "%%sh\n",
    "./dataset/getdata.sh"
   ]
  },
  {
   "cell_type": "code",
   "execution_count": null,
   "id": "92061011",
   "metadata": {},
   "outputs": [],
   "source": []
  }
 ],
 "metadata": {
  "kernelspec": {
   "display_name": "Python 3 (ipykernel)",
   "language": "python",
   "name": "python3"
  },
  "language_info": {
   "codemirror_mode": {
    "name": "ipython",
    "version": 3
   },
   "file_extension": ".py",
   "mimetype": "text/x-python",
   "name": "python",
   "nbconvert_exporter": "python",
   "pygments_lexer": "ipython3",
   "version": "3.12.3"
  }
 },
 "nbformat": 4,
 "nbformat_minor": 5
}
